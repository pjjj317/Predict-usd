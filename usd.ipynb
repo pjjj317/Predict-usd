{
 "cells": [
  {
   "cell_type": "code",
   "execution_count": 113,
   "metadata": {},
   "outputs": [],
   "source": [
    "import pandas as pd\n",
    "import numpy as np\n",
    "from sklearn.model_selection import train_test_split\n",
    "from sklearn.ensemble import RandomForestClassifier\n",
    "from sklearn.model_selection import cross_val_score\n",
    "\n",
    "from sklearn.svm import SVC\n",
    "\n",
    "from sklearn.linear_model import LogisticRegression\n",
    "\n",
    "from sklearn.neighbors import KNeighborsClassifier"
   ]
  },
  {
   "cell_type": "code",
   "execution_count": 2,
   "metadata": {},
   "outputs": [],
   "source": [
    "data = pd.read_csv('C:/Users/pjjj3/Downloads/dataset.csv')"
   ]
  },
  {
   "cell_type": "code",
   "execution_count": 3,
   "metadata": {
    "scrolled": true
   },
   "outputs": [
    {
     "data": {
      "text/html": [
       "<div>\n",
       "<style scoped>\n",
       "    .dataframe tbody tr th:only-of-type {\n",
       "        vertical-align: middle;\n",
       "    }\n",
       "\n",
       "    .dataframe tbody tr th {\n",
       "        vertical-align: top;\n",
       "    }\n",
       "\n",
       "    .dataframe thead th {\n",
       "        text-align: right;\n",
       "    }\n",
       "</style>\n",
       "<table border=\"1\" class=\"dataframe\">\n",
       "  <thead>\n",
       "    <tr style=\"text-align: right;\">\n",
       "      <th></th>\n",
       "      <th>期間</th>\n",
       "      <th>NTD/USD</th>\n",
       "      <th>Consumer sentiment</th>\n",
       "      <th>federal fund rate change rate</th>\n",
       "      <th>10 year treasury bond rate minus 2 year</th>\n",
       "      <th>30 year treasury bond rate change rate</th>\n",
       "      <th>Real M2 Money Stock growth rate</th>\n",
       "      <th>Industrial Production Manufacturing (NAICS) growth rate</th>\n",
       "      <th>cpi growth rate</th>\n",
       "      <th>Capacity Utilization</th>\n",
       "      <th>New One Family Houses Sold</th>\n",
       "      <th>unemployment rate</th>\n",
       "      <th>NBER based Recession Indicators</th>\n",
       "      <th>台灣領先指標不含趨勢指數(點)</th>\n",
       "      <th>台灣同時指標不含趨勢指數(點)</th>\n",
       "      <th>EAESI</th>\n",
       "    </tr>\n",
       "  </thead>\n",
       "  <tbody>\n",
       "    <tr>\n",
       "      <th>0</th>\n",
       "      <td>1982M01</td>\n",
       "      <td>37.712</td>\n",
       "      <td>71.0</td>\n",
       "      <td>0.068715</td>\n",
       "      <td>0.02</td>\n",
       "      <td>0.057249</td>\n",
       "      <td>0.005253</td>\n",
       "      <td>-0.024147</td>\n",
       "      <td>0.003226</td>\n",
       "      <td>75.0489</td>\n",
       "      <td>28</td>\n",
       "      <td>8.6</td>\n",
       "      <td>1</td>\n",
       "      <td>100.14</td>\n",
       "      <td>106.65</td>\n",
       "      <td>69.7</td>\n",
       "    </tr>\n",
       "    <tr>\n",
       "      <th>1</th>\n",
       "      <td>1982M02</td>\n",
       "      <td>37.912</td>\n",
       "      <td>66.5</td>\n",
       "      <td>0.118003</td>\n",
       "      <td>-0.39</td>\n",
       "      <td>0.000000</td>\n",
       "      <td>-0.000853</td>\n",
       "      <td>0.027916</td>\n",
       "      <td>0.005359</td>\n",
       "      <td>76.3768</td>\n",
       "      <td>29</td>\n",
       "      <td>8.9</td>\n",
       "      <td>1</td>\n",
       "      <td>99.73</td>\n",
       "      <td>103.95</td>\n",
       "      <td>67.1</td>\n",
       "    </tr>\n",
       "    <tr>\n",
       "      <th>2</th>\n",
       "      <td>1982M03</td>\n",
       "      <td>38.097</td>\n",
       "      <td>62.0</td>\n",
       "      <td>-0.006766</td>\n",
       "      <td>-0.33</td>\n",
       "      <td>-0.048523</td>\n",
       "      <td>0.006778</td>\n",
       "      <td>-0.008731</td>\n",
       "      <td>0.001066</td>\n",
       "      <td>75.6450</td>\n",
       "      <td>36</td>\n",
       "      <td>9.0</td>\n",
       "      <td>1</td>\n",
       "      <td>99.24</td>\n",
       "      <td>101.63</td>\n",
       "      <td>66.8</td>\n",
       "    </tr>\n",
       "    <tr>\n",
       "      <th>3</th>\n",
       "      <td>1982M04</td>\n",
       "      <td>38.337</td>\n",
       "      <td>65.5</td>\n",
       "      <td>0.017711</td>\n",
       "      <td>-0.33</td>\n",
       "      <td>-0.011826</td>\n",
       "      <td>0.006520</td>\n",
       "      <td>-0.006654</td>\n",
       "      <td>0.008520</td>\n",
       "      <td>74.8423</td>\n",
       "      <td>32</td>\n",
       "      <td>9.3</td>\n",
       "      <td>1</td>\n",
       "      <td>98.46</td>\n",
       "      <td>99.66</td>\n",
       "      <td>67.8</td>\n",
       "    </tr>\n",
       "    <tr>\n",
       "      <th>4</th>\n",
       "      <td>1982M05</td>\n",
       "      <td>38.756</td>\n",
       "      <td>67.5</td>\n",
       "      <td>-0.032798</td>\n",
       "      <td>-0.16</td>\n",
       "      <td>-0.009723</td>\n",
       "      <td>-0.003055</td>\n",
       "      <td>-0.001994</td>\n",
       "      <td>0.007392</td>\n",
       "      <td>74.2336</td>\n",
       "      <td>36</td>\n",
       "      <td>9.4</td>\n",
       "      <td>1</td>\n",
       "      <td>97.48</td>\n",
       "      <td>97.99</td>\n",
       "      <td>66.6</td>\n",
       "    </tr>\n",
       "    <tr>\n",
       "      <th>...</th>\n",
       "      <td>...</td>\n",
       "      <td>...</td>\n",
       "      <td>...</td>\n",
       "      <td>...</td>\n",
       "      <td>...</td>\n",
       "      <td>...</td>\n",
       "      <td>...</td>\n",
       "      <td>...</td>\n",
       "      <td>...</td>\n",
       "      <td>...</td>\n",
       "      <td>...</td>\n",
       "      <td>...</td>\n",
       "      <td>...</td>\n",
       "      <td>...</td>\n",
       "      <td>...</td>\n",
       "      <td>...</td>\n",
       "    </tr>\n",
       "    <tr>\n",
       "      <th>466</th>\n",
       "      <td>2020M11</td>\n",
       "      <td>28.844</td>\n",
       "      <td>76.9</td>\n",
       "      <td>0.000000</td>\n",
       "      <td>0.70</td>\n",
       "      <td>0.031847</td>\n",
       "      <td>0.012634</td>\n",
       "      <td>0.010363</td>\n",
       "      <td>0.001741</td>\n",
       "      <td>73.9102</td>\n",
       "      <td>61</td>\n",
       "      <td>6.7</td>\n",
       "      <td>1</td>\n",
       "      <td>104.29</td>\n",
       "      <td>102.20</td>\n",
       "      <td>89.3</td>\n",
       "    </tr>\n",
       "    <tr>\n",
       "      <th>467</th>\n",
       "      <td>2020M12</td>\n",
       "      <td>28.539</td>\n",
       "      <td>80.7</td>\n",
       "      <td>0.000000</td>\n",
       "      <td>0.79</td>\n",
       "      <td>0.030864</td>\n",
       "      <td>0.001613</td>\n",
       "      <td>0.008261</td>\n",
       "      <td>0.000448</td>\n",
       "      <td>74.6682</td>\n",
       "      <td>63</td>\n",
       "      <td>6.7</td>\n",
       "      <td>1</td>\n",
       "      <td>104.76</td>\n",
       "      <td>103.20</td>\n",
       "      <td>92.4</td>\n",
       "    </tr>\n",
       "    <tr>\n",
       "      <th>468</th>\n",
       "      <td>2021M01</td>\n",
       "      <td>28.431</td>\n",
       "      <td>79.0</td>\n",
       "      <td>0.000000</td>\n",
       "      <td>0.95</td>\n",
       "      <td>0.089820</td>\n",
       "      <td>0.009114</td>\n",
       "      <td>0.013098</td>\n",
       "      <td>0.000315</td>\n",
       "      <td>75.3393</td>\n",
       "      <td>77</td>\n",
       "      <td>6.3</td>\n",
       "      <td>1</td>\n",
       "      <td>105.05</td>\n",
       "      <td>104.17</td>\n",
       "      <td>91.5</td>\n",
       "    </tr>\n",
       "    <tr>\n",
       "      <th>469</th>\n",
       "      <td>2021M02</td>\n",
       "      <td>28.350</td>\n",
       "      <td>76.8</td>\n",
       "      <td>-0.111111</td>\n",
       "      <td>1.14</td>\n",
       "      <td>0.120879</td>\n",
       "      <td>0.010559</td>\n",
       "      <td>-0.037246</td>\n",
       "      <td>0.001015</td>\n",
       "      <td>73.3560</td>\n",
       "      <td>70</td>\n",
       "      <td>6.2</td>\n",
       "      <td>1</td>\n",
       "      <td>105.23</td>\n",
       "      <td>105.10</td>\n",
       "      <td>93.4</td>\n",
       "    </tr>\n",
       "    <tr>\n",
       "      <th>470</th>\n",
       "      <td>2021M03</td>\n",
       "      <td>28.385</td>\n",
       "      <td>84.9</td>\n",
       "      <td>-0.125000</td>\n",
       "      <td>1.46</td>\n",
       "      <td>0.147059</td>\n",
       "      <td>0.005285</td>\n",
       "      <td>0.027859</td>\n",
       "      <td>0.003385</td>\n",
       "      <td>74.3914</td>\n",
       "      <td>97</td>\n",
       "      <td>6.0</td>\n",
       "      <td>1</td>\n",
       "      <td>105.35</td>\n",
       "      <td>105.98</td>\n",
       "      <td>100.9</td>\n",
       "    </tr>\n",
       "  </tbody>\n",
       "</table>\n",
       "<p>471 rows × 16 columns</p>\n",
       "</div>"
      ],
      "text/plain": [
       "          期間  NTD/USD  Consumer sentiment  federal fund rate change rate  \\\n",
       "0    1982M01   37.712                71.0                       0.068715   \n",
       "1    1982M02   37.912                66.5                       0.118003   \n",
       "2    1982M03   38.097                62.0                      -0.006766   \n",
       "3    1982M04   38.337                65.5                       0.017711   \n",
       "4    1982M05   38.756                67.5                      -0.032798   \n",
       "..       ...      ...                 ...                            ...   \n",
       "466  2020M11   28.844                76.9                       0.000000   \n",
       "467  2020M12   28.539                80.7                       0.000000   \n",
       "468  2021M01   28.431                79.0                       0.000000   \n",
       "469  2021M02   28.350                76.8                      -0.111111   \n",
       "470  2021M03   28.385                84.9                      -0.125000   \n",
       "\n",
       "     10 year treasury bond rate minus 2 year  \\\n",
       "0                                       0.02   \n",
       "1                                      -0.39   \n",
       "2                                      -0.33   \n",
       "3                                      -0.33   \n",
       "4                                      -0.16   \n",
       "..                                       ...   \n",
       "466                                     0.70   \n",
       "467                                     0.79   \n",
       "468                                     0.95   \n",
       "469                                     1.14   \n",
       "470                                     1.46   \n",
       "\n",
       "     30 year treasury bond rate change rate  Real M2 Money Stock growth rate  \\\n",
       "0                                  0.057249                         0.005253   \n",
       "1                                  0.000000                        -0.000853   \n",
       "2                                 -0.048523                         0.006778   \n",
       "3                                 -0.011826                         0.006520   \n",
       "4                                 -0.009723                        -0.003055   \n",
       "..                                      ...                              ...   \n",
       "466                                0.031847                         0.012634   \n",
       "467                                0.030864                         0.001613   \n",
       "468                                0.089820                         0.009114   \n",
       "469                                0.120879                         0.010559   \n",
       "470                                0.147059                         0.005285   \n",
       "\n",
       "     Industrial Production Manufacturing (NAICS) growth rate  cpi growth rate  \\\n",
       "0                                            -0.024147               0.003226   \n",
       "1                                             0.027916               0.005359   \n",
       "2                                            -0.008731               0.001066   \n",
       "3                                            -0.006654               0.008520   \n",
       "4                                            -0.001994               0.007392   \n",
       "..                                                 ...                    ...   \n",
       "466                                           0.010363               0.001741   \n",
       "467                                           0.008261               0.000448   \n",
       "468                                           0.013098               0.000315   \n",
       "469                                          -0.037246               0.001015   \n",
       "470                                           0.027859               0.003385   \n",
       "\n",
       "     Capacity Utilization  New One Family Houses Sold  unemployment rate  \\\n",
       "0                 75.0489                          28                8.6   \n",
       "1                 76.3768                          29                8.9   \n",
       "2                 75.6450                          36                9.0   \n",
       "3                 74.8423                          32                9.3   \n",
       "4                 74.2336                          36                9.4   \n",
       "..                    ...                         ...                ...   \n",
       "466               73.9102                          61                6.7   \n",
       "467               74.6682                          63                6.7   \n",
       "468               75.3393                          77                6.3   \n",
       "469               73.3560                          70                6.2   \n",
       "470               74.3914                          97                6.0   \n",
       "\n",
       "     NBER based Recession Indicators  台灣領先指標不含趨勢指數(點)  台灣同時指標不含趨勢指數(點)  EAESI  \n",
       "0                                  1           100.14           106.65   69.7  \n",
       "1                                  1            99.73           103.95   67.1  \n",
       "2                                  1            99.24           101.63   66.8  \n",
       "3                                  1            98.46            99.66   67.8  \n",
       "4                                  1            97.48            97.99   66.6  \n",
       "..                               ...              ...              ...    ...  \n",
       "466                                1           104.29           102.20   89.3  \n",
       "467                                1           104.76           103.20   92.4  \n",
       "468                                1           105.05           104.17   91.5  \n",
       "469                                1           105.23           105.10   93.4  \n",
       "470                                1           105.35           105.98  100.9  \n",
       "\n",
       "[471 rows x 16 columns]"
      ]
     },
     "execution_count": 3,
     "metadata": {},
     "output_type": "execute_result"
    }
   ],
   "source": [
    "data"
   ]
  },
  {
   "cell_type": "code",
   "execution_count": 4,
   "metadata": {},
   "outputs": [],
   "source": [
    "X = data.iloc[:, 2:].values\n",
    "usd = data.iloc[:, 1].values\n",
    "usd = np.append(usd, 27.86409)"
   ]
  },
  {
   "cell_type": "code",
   "execution_count": 5,
   "metadata": {},
   "outputs": [],
   "source": [
    "y = []\n",
    "for i in range(1, len(usd)):\n",
    "    if usd[i] > usd[i-1]:\n",
    "        y.append(1)\n",
    "    else:\n",
    "        y.append(0)"
   ]
  },
  {
   "cell_type": "code",
   "execution_count": 6,
   "metadata": {},
   "outputs": [],
   "source": [
    "y = np.array(y)"
   ]
  },
  {
   "cell_type": "code",
   "execution_count": 7,
   "metadata": {
    "scrolled": true
   },
   "outputs": [
    {
     "data": {
      "text/plain": [
       "(471, 471)"
      ]
     },
     "execution_count": 7,
     "metadata": {},
     "output_type": "execute_result"
    }
   ],
   "source": [
    "len(y), len(X)"
   ]
  },
  {
   "cell_type": "code",
   "execution_count": null,
   "metadata": {},
   "outputs": [],
   "source": []
  },
  {
   "cell_type": "code",
   "execution_count": 32,
   "metadata": {},
   "outputs": [],
   "source": [
    "X_train, X_test, y_train, y_test = train_test_split(\n",
    "    X, y, test_size=0.3, random_state=1, stratify=y)"
   ]
  },
  {
   "cell_type": "code",
   "execution_count": 172,
   "metadata": {},
   "outputs": [
    {
     "data": {
      "text/plain": [
       "RandomForestClassifier(n_estimators=6000, n_jobs=-1, random_state=1)"
      ]
     },
     "execution_count": 172,
     "metadata": {},
     "output_type": "execute_result"
    }
   ],
   "source": [
    "forest = RandomForestClassifier(criterion='gini',\n",
    "                                n_estimators=6000, \n",
    "                                random_state=1,\n",
    "                                n_jobs=-1)\n",
    "forest.fit(X_train, y_train)"
   ]
  },
  {
   "cell_type": "code",
   "execution_count": 173,
   "metadata": {
    "scrolled": true
   },
   "outputs": [],
   "source": [
    "scores = cross_val_score(estimator=forest,\n",
    "                             X=X_test,\n",
    "                             y=y_test,\n",
    "                             cv=10\n",
    "                             )"
   ]
  },
  {
   "cell_type": "code",
   "execution_count": 174,
   "metadata": {},
   "outputs": [
    {
     "data": {
      "text/plain": [
       "array([0.53333333, 0.53333333, 0.64285714, 0.71428571, 0.64285714,\n",
       "       0.64285714, 0.5       , 0.5       , 0.85714286, 0.42857143])"
      ]
     },
     "execution_count": 174,
     "metadata": {},
     "output_type": "execute_result"
    }
   ],
   "source": [
    "scores"
   ]
  },
  {
   "cell_type": "code",
   "execution_count": 175,
   "metadata": {
    "scrolled": true
   },
   "outputs": [
    {
     "data": {
      "text/plain": [
       "(0.5995238095238096, 0.11956933301154354)"
      ]
     },
     "execution_count": 175,
     "metadata": {},
     "output_type": "execute_result"
    }
   ],
   "source": [
    "scores.mean(), scores.std()"
   ]
  },
  {
   "cell_type": "code",
   "execution_count": null,
   "metadata": {},
   "outputs": [],
   "source": []
  },
  {
   "cell_type": "code",
   "execution_count": 188,
   "metadata": {},
   "outputs": [
    {
     "data": {
      "text/plain": [
       "SVC(C=100, gamma=0.07, random_state=1)"
      ]
     },
     "execution_count": 188,
     "metadata": {},
     "output_type": "execute_result"
    }
   ],
   "source": [
    "svm = SVC(kernel='rbf', gamma=0.07, random_state=1, C=100)\n",
    "svm.fit(X_train, y_train)"
   ]
  },
  {
   "cell_type": "code",
   "execution_count": 189,
   "metadata": {},
   "outputs": [],
   "source": [
    "scores2 = cross_val_score(estimator=svm,\n",
    "                          X=X_test,\n",
    "                          y=y_test,\n",
    "                          cv=10)"
   ]
  },
  {
   "cell_type": "code",
   "execution_count": 190,
   "metadata": {},
   "outputs": [
    {
     "data": {
      "text/plain": [
       "array([0.66666667, 0.73333333, 0.64285714, 0.64285714, 0.85714286,\n",
       "       0.57142857, 0.64285714, 0.57142857, 0.5       , 0.57142857])"
      ]
     },
     "execution_count": 190,
     "metadata": {},
     "output_type": "execute_result"
    }
   ],
   "source": [
    "scores2"
   ]
  },
  {
   "cell_type": "code",
   "execution_count": 191,
   "metadata": {
    "scrolled": true
   },
   "outputs": [
    {
     "data": {
      "text/plain": [
       "(0.64, 0.09502834044393463)"
      ]
     },
     "execution_count": 191,
     "metadata": {},
     "output_type": "execute_result"
    }
   ],
   "source": [
    "scores2.mean(), scores2.std()"
   ]
  },
  {
   "cell_type": "code",
   "execution_count": null,
   "metadata": {},
   "outputs": [],
   "source": []
  },
  {
   "cell_type": "code",
   "execution_count": 220,
   "metadata": {
    "scrolled": true
   },
   "outputs": [
    {
     "data": {
      "text/plain": [
       "LogisticRegression(C=15, max_iter=10000, multi_class='multinomial',\n",
       "                   random_state=1)"
      ]
     },
     "execution_count": 220,
     "metadata": {},
     "output_type": "execute_result"
    }
   ],
   "source": [
    "lr = LogisticRegression(C=15, random_state=1, solver='lbfgs', multi_class='multinomial', max_iter=10000)\n",
    "lr.fit(X_train, y_train)"
   ]
  },
  {
   "cell_type": "code",
   "execution_count": 221,
   "metadata": {
    "scrolled": false
   },
   "outputs": [],
   "source": [
    "scores3 = cross_val_score(estimator=lr,\n",
    "                          X=X_test,\n",
    "                          y=y_test,\n",
    "                          cv=10)"
   ]
  },
  {
   "cell_type": "code",
   "execution_count": 222,
   "metadata": {},
   "outputs": [
    {
     "data": {
      "text/plain": [
       "array([0.46666667, 0.66666667, 0.71428571, 0.5       , 0.5       ,\n",
       "       0.5       , 0.64285714, 0.57142857, 0.5       , 0.64285714])"
      ]
     },
     "execution_count": 222,
     "metadata": {},
     "output_type": "execute_result"
    }
   ],
   "source": [
    "scores3"
   ]
  },
  {
   "cell_type": "code",
   "execution_count": 223,
   "metadata": {
    "scrolled": true
   },
   "outputs": [
    {
     "data": {
      "text/plain": [
       "(0.5704761904761905, 0.08429512995565262)"
      ]
     },
     "execution_count": 223,
     "metadata": {},
     "output_type": "execute_result"
    }
   ],
   "source": [
    "scores3.mean(), scores3.std()"
   ]
  },
  {
   "cell_type": "code",
   "execution_count": null,
   "metadata": {},
   "outputs": [],
   "source": []
  },
  {
   "cell_type": "code",
   "execution_count": 247,
   "metadata": {},
   "outputs": [
    {
     "data": {
      "text/plain": [
       "KNeighborsClassifier(n_neighbors=20)"
      ]
     },
     "execution_count": 247,
     "metadata": {},
     "output_type": "execute_result"
    }
   ],
   "source": [
    "knn = KNeighborsClassifier(n_neighbors=20, p=2, metric='minkowski')\n",
    "knn.fit(X_train, y_train)"
   ]
  },
  {
   "cell_type": "code",
   "execution_count": 248,
   "metadata": {},
   "outputs": [],
   "source": [
    "scores4 = cross_val_score(estimator=knn,\n",
    "                          X=X_test,\n",
    "                          y=y_test,\n",
    "                          cv=10)"
   ]
  },
  {
   "cell_type": "code",
   "execution_count": 249,
   "metadata": {},
   "outputs": [
    {
     "data": {
      "text/plain": [
       "array([0.6       , 0.53333333, 0.57142857, 0.64285714, 0.71428571,\n",
       "       0.64285714, 0.42857143, 0.5       , 0.57142857, 0.64285714])"
      ]
     },
     "execution_count": 249,
     "metadata": {},
     "output_type": "execute_result"
    }
   ],
   "source": [
    "scores4"
   ]
  },
  {
   "cell_type": "code",
   "execution_count": 250,
   "metadata": {},
   "outputs": [
    {
     "data": {
      "text/plain": [
       "(0.5847619047619047, 0.07855844048495728)"
      ]
     },
     "execution_count": 250,
     "metadata": {},
     "output_type": "execute_result"
    }
   ],
   "source": [
    "scores4.mean(), scores4.std()"
   ]
  },
  {
   "cell_type": "code",
   "execution_count": null,
   "metadata": {},
   "outputs": [],
   "source": []
  },
  {
   "cell_type": "code",
   "execution_count": 107,
   "metadata": {},
   "outputs": [],
   "source": [
    "from sklearn.base import BaseEstimator\n",
    "from sklearn.base import ClassifierMixin\n",
    "from sklearn.pipeline import _name_estimators\n",
    "from sklearn.base import clone\n",
    "from sklearn.preprocessing import LabelEncoder"
   ]
  },
  {
   "cell_type": "code",
   "execution_count": 317,
   "metadata": {},
   "outputs": [],
   "source": [
    "class MajorityVoteClassifier(BaseEstimator, \n",
    "                             ClassifierMixin):\n",
    "    \"\"\" A majority vote ensemble classifier\n",
    "\n",
    "    Parameters\n",
    "    ----------\n",
    "    classifiers : array-like, shape = [n_classifiers]\n",
    "      Different classifiers for the ensemble\n",
    "\n",
    "    vote : str, {'classlabel', 'probability'} (default='classlabel')\n",
    "      If 'classlabel' the prediction is based on the argmax of\n",
    "        class labels. Else if 'probability', the argmax of\n",
    "        the sum of probabilities is used to predict the class label\n",
    "        (recommended for calibrated classifiers).\n",
    "\n",
    "    weights : array-like, shape = [n_classifiers], optional (default=None)\n",
    "      If a list of `int` or `float` values are provided, the classifiers\n",
    "      are weighted by importance; Uses uniform weights if `weights=None`.\n",
    "\n",
    "    \"\"\"\n",
    "    def __init__(self, classifiers, vote='classlabel', weights=None):\n",
    "\n",
    "        self.classifiers = classifiers\n",
    "        self.named_classifiers = {key: value for key, value\n",
    "                                  in _name_estimators(classifiers)}\n",
    "        self.vote = vote\n",
    "        self.weights = weights\n",
    "\n",
    "    def fit(self, X, y):\n",
    "        \"\"\" Fit classifiers.\n",
    "\n",
    "        Parameters\n",
    "        ----------\n",
    "        X : {array-like, sparse matrix}, shape = [n_examples, n_features]\n",
    "            Matrix of training examples.\n",
    "\n",
    "        y : array-like, shape = [n_examples]\n",
    "            Vector of target class labels.\n",
    "\n",
    "        Returns\n",
    "        -------\n",
    "        self : object\n",
    "\n",
    "        \"\"\"\n",
    "        if self.vote not in ('probability', 'classlabel'):\n",
    "            raise ValueError(\"vote must be 'probability' or 'classlabel'\"\n",
    "                             \"; got (vote=%r)\"\n",
    "                             % self.vote)\n",
    "\n",
    "        if self.weights and len(self.weights) != len(self.classifiers):\n",
    "            raise ValueError('Number of classifiers and weights must be equal'\n",
    "                             '; got %d weights, %d classifiers'\n",
    "                             % (len(self.weights), len(self.classifiers)))\n",
    "\n",
    "        # Use LabelEncoder to ensure class labels start with 0, which\n",
    "        # is important for np.argmax call in self.predict\n",
    "        self.lablenc_ = LabelEncoder()\n",
    "        self.lablenc_.fit(y)\n",
    "        self.classes_ = self.lablenc_.classes_\n",
    "        self.classifiers_ = []\n",
    "        for clf in self.classifiers:\n",
    "            fitted_clf = clone(clf).fit(X, self.lablenc_.transform(y))\n",
    "            self.classifiers_.append(fitted_clf)\n",
    "        return self\n",
    "\n",
    "    def predict(self, X):\n",
    "        \"\"\" Predict class labels for X.\n",
    "\n",
    "        Parameters\n",
    "        ----------\n",
    "        X : {array-like, sparse matrix}, shape = [n_examples, n_features]\n",
    "            Matrix of training examples.\n",
    "\n",
    "        Returns\n",
    "        ----------\n",
    "        maj_vote : array-like, shape = [n_examples]\n",
    "            Predicted class labels.\n",
    "            \n",
    "        \"\"\"\n",
    "        if self.vote == 'probability':\n",
    "            maj_vote = np.argmax(self.predict_proba(X), axis=1)\n",
    "        else:  # 'classlabel' vote\n",
    "\n",
    "            #  Collect results from clf.predict calls\n",
    "            predictions = np.asarray([clf.predict(X)\n",
    "                                      for clf in self.classifiers_]).T\n",
    "\n",
    "            maj_vote = np.apply_along_axis(\n",
    "                                      lambda x:\n",
    "                                      np.argmax(np.bincount(x,\n",
    "                                                weights=self.weights)),\n",
    "                                      axis=1,\n",
    "                                      arr=predictions)\n",
    "        maj_vote = self.lablenc_.inverse_transform(maj_vote)\n",
    "        return maj_vote\n",
    "\n",
    "    def predict_proba(self, X):\n",
    "        \"\"\" Predict class probabilities for X.\n",
    "\n",
    "        Parameters\n",
    "        ----------\n",
    "        X : {array-like, sparse matrix}, shape = [n_examples, n_features]\n",
    "            Training vectors, where n_examples is the number of examples and\n",
    "            n_features is the number of features.\n",
    "\n",
    "        Returns\n",
    "        ----------\n",
    "        avg_proba : array-like, shape = [n_examples, n_classes]\n",
    "            Weighted average probability for each class per example.\n",
    "\n",
    "        \"\"\"\n",
    "        probas = np.asarray([clf.predict_proba(X)\n",
    "                             for clf in self.classifiers_])\n",
    "        avg_proba = np.average(probas, axis=0, weights=self.weights)\n",
    "        return avg_proba\n",
    "\n",
    "    def get_params(self, deep=True):\n",
    "        \"\"\" Get classifier parameter names for GridSearch\"\"\"\n",
    "        if not deep:\n",
    "            return super(MajorityVoteClassifier, self).get_params(deep=False)\n",
    "        else:\n",
    "            out = self.named_classifiers.copy()\n",
    "            for name, step in self.named_classifiers.items():\n",
    "                for key, value in step.get_params(deep=True).items():\n",
    "                    out['%s__%s' % (name, key)] = value\n",
    "            return out"
   ]
  },
  {
   "cell_type": "code",
   "execution_count": 319,
   "metadata": {},
   "outputs": [],
   "source": [
    "mv_clf = MajorityVoteClassifier(classifiers=[forest, svm, knn])"
   ]
  },
  {
   "cell_type": "code",
   "execution_count": 268,
   "metadata": {
    "scrolled": true
   },
   "outputs": [],
   "source": [
    "scores5 = cross_val_score(estimator=mv_clf,\n",
    "                             X=X_test,\n",
    "                             y=y_test,\n",
    "                             cv=10)"
   ]
  },
  {
   "cell_type": "code",
   "execution_count": 269,
   "metadata": {
    "scrolled": true
   },
   "outputs": [
    {
     "data": {
      "text/plain": [
       "array([0.66666667, 0.6       , 0.64285714, 0.64285714, 0.78571429,\n",
       "       0.64285714, 0.64285714, 0.57142857, 0.64285714, 0.57142857])"
      ]
     },
     "execution_count": 269,
     "metadata": {},
     "output_type": "execute_result"
    }
   ],
   "source": [
    "scores5"
   ]
  },
  {
   "cell_type": "code",
   "execution_count": 270,
   "metadata": {
    "scrolled": false
   },
   "outputs": [
    {
     "data": {
      "text/plain": [
       "(0.6409523809523809, 0.05742786069211938)"
      ]
     },
     "execution_count": 270,
     "metadata": {},
     "output_type": "execute_result"
    }
   ],
   "source": [
    "scores5.mean(), scores5.std()"
   ]
  },
  {
   "cell_type": "code",
   "execution_count": 333,
   "metadata": {},
   "outputs": [],
   "source": [
    "#use 2021/3 to try predicting\n",
    "mv_clf.fit(X_train, y_train)\n",
    "xx = np.array([84.9, -0.125, 1.46, 0.147059, 0.005285, 0.027859, 0.003385, 74.3914, 97 ,6, 1, 105.35, 105.98, 100.9])\n",
    "xx = xx.reshape(1, -1)"
   ]
  },
  {
   "cell_type": "code",
   "execution_count": 334,
   "metadata": {},
   "outputs": [
    {
     "data": {
      "text/plain": [
       "array([0])"
      ]
     },
     "execution_count": 334,
     "metadata": {},
     "output_type": "execute_result"
    }
   ],
   "source": [
    "mv_clf.predict(xx)"
   ]
  }
 ],
 "metadata": {
  "kernelspec": {
   "display_name": "Python 3",
   "language": "python",
   "name": "python3"
  },
  "language_info": {
   "codemirror_mode": {
    "name": "ipython",
    "version": 3
   },
   "file_extension": ".py",
   "mimetype": "text/x-python",
   "name": "python",
   "nbconvert_exporter": "python",
   "pygments_lexer": "ipython3",
   "version": "3.8.5"
  }
 },
 "nbformat": 4,
 "nbformat_minor": 4
}
